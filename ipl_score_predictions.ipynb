{
 "cells": [
  {
   "cell_type": "code",
   "execution_count": 1,
   "id": "32cbec2f-667c-4d0c-9350-897e1e3f0b98",
   "metadata": {},
   "outputs": [],
   "source": [
    "import pandas as pd\n",
    "import numpy as np\n",
    "import matplotlib.pyplot as plt\n",
    "import seaborn as sns\n",
    "%matplotlib inline"
   ]
  },
  {
   "cell_type": "code",
   "execution_count": 2,
   "id": "995c3647-463e-453c-ba24-808765e3cff6",
   "metadata": {},
   "outputs": [],
   "source": [
    "df = pd.read_csv(\"ipl_data.csv\")"
   ]
  },
  {
   "cell_type": "code",
   "execution_count": 3,
   "id": "7c392d08-9e56-45f2-a2c7-360189884cf4",
   "metadata": {},
   "outputs": [],
   "source": [
    "# mid: Unique match id.\n",
    "# date: Date on which the match was played.\n",
    "# venue: Stadium where match was played.\n",
    "# batting_team: Batting team name.\n",
    "# bowling_team: Bowling team name.\n",
    "# batsman: Batsman who faced that particular ball.\n",
    "# bowler: Bowler who bowled that particular ball.\n",
    "# runs: Runs scored by team till that point of instance.\n",
    "# wickets: Number of Wickets fallen of the team till that point of instance.\n",
    "# overs: Number of Overs bowled till that point of instance.\n",
    "# runs_last_5: Runs scored in previous 5 overs.\n",
    "# wickets_last_5: Number of Wickets that fell in previous 5 overs.\n",
    "# striker: max(runs scored by striker, runs scored by non-striker).\n",
    "# non-striker: min(runs scored by striker, runs scored by non-striker).\n",
    "# total: Total runs scored by batting team at the end of first innings.first innings."
   ]
  },
  {
   "cell_type": "code",
   "execution_count": 4,
   "id": "db469639-f66f-453b-855c-3aa7789f8fde",
   "metadata": {},
   "outputs": [
    {
     "data": {
      "text/html": [
       "<div>\n",
       "<style scoped>\n",
       "    .dataframe tbody tr th:only-of-type {\n",
       "        vertical-align: middle;\n",
       "    }\n",
       "\n",
       "    .dataframe tbody tr th {\n",
       "        vertical-align: top;\n",
       "    }\n",
       "\n",
       "    .dataframe thead th {\n",
       "        text-align: right;\n",
       "    }\n",
       "</style>\n",
       "<table border=\"1\" class=\"dataframe\">\n",
       "  <thead>\n",
       "    <tr style=\"text-align: right;\">\n",
       "      <th></th>\n",
       "      <th>mid</th>\n",
       "      <th>date</th>\n",
       "      <th>venue</th>\n",
       "      <th>bat_team</th>\n",
       "      <th>bowl_team</th>\n",
       "      <th>batsman</th>\n",
       "      <th>bowler</th>\n",
       "      <th>runs</th>\n",
       "      <th>wickets</th>\n",
       "      <th>overs</th>\n",
       "      <th>runs_last_5</th>\n",
       "      <th>wickets_last_5</th>\n",
       "      <th>striker</th>\n",
       "      <th>non-striker</th>\n",
       "      <th>total</th>\n",
       "    </tr>\n",
       "  </thead>\n",
       "  <tbody>\n",
       "    <tr>\n",
       "      <th>0</th>\n",
       "      <td>1</td>\n",
       "      <td>2008-04-18</td>\n",
       "      <td>M Chinnaswamy Stadium</td>\n",
       "      <td>Kolkata Knight Riders</td>\n",
       "      <td>Royal Challengers Bangalore</td>\n",
       "      <td>SC Ganguly</td>\n",
       "      <td>P Kumar</td>\n",
       "      <td>1</td>\n",
       "      <td>0</td>\n",
       "      <td>0.1</td>\n",
       "      <td>1</td>\n",
       "      <td>0</td>\n",
       "      <td>0</td>\n",
       "      <td>0</td>\n",
       "      <td>222</td>\n",
       "    </tr>\n",
       "    <tr>\n",
       "      <th>1</th>\n",
       "      <td>1</td>\n",
       "      <td>2008-04-18</td>\n",
       "      <td>M Chinnaswamy Stadium</td>\n",
       "      <td>Kolkata Knight Riders</td>\n",
       "      <td>Royal Challengers Bangalore</td>\n",
       "      <td>BB McCullum</td>\n",
       "      <td>P Kumar</td>\n",
       "      <td>1</td>\n",
       "      <td>0</td>\n",
       "      <td>0.2</td>\n",
       "      <td>1</td>\n",
       "      <td>0</td>\n",
       "      <td>0</td>\n",
       "      <td>0</td>\n",
       "      <td>222</td>\n",
       "    </tr>\n",
       "    <tr>\n",
       "      <th>2</th>\n",
       "      <td>1</td>\n",
       "      <td>2008-04-18</td>\n",
       "      <td>M Chinnaswamy Stadium</td>\n",
       "      <td>Kolkata Knight Riders</td>\n",
       "      <td>Royal Challengers Bangalore</td>\n",
       "      <td>BB McCullum</td>\n",
       "      <td>P Kumar</td>\n",
       "      <td>2</td>\n",
       "      <td>0</td>\n",
       "      <td>0.2</td>\n",
       "      <td>2</td>\n",
       "      <td>0</td>\n",
       "      <td>0</td>\n",
       "      <td>0</td>\n",
       "      <td>222</td>\n",
       "    </tr>\n",
       "    <tr>\n",
       "      <th>3</th>\n",
       "      <td>1</td>\n",
       "      <td>2008-04-18</td>\n",
       "      <td>M Chinnaswamy Stadium</td>\n",
       "      <td>Kolkata Knight Riders</td>\n",
       "      <td>Royal Challengers Bangalore</td>\n",
       "      <td>BB McCullum</td>\n",
       "      <td>P Kumar</td>\n",
       "      <td>2</td>\n",
       "      <td>0</td>\n",
       "      <td>0.3</td>\n",
       "      <td>2</td>\n",
       "      <td>0</td>\n",
       "      <td>0</td>\n",
       "      <td>0</td>\n",
       "      <td>222</td>\n",
       "    </tr>\n",
       "    <tr>\n",
       "      <th>4</th>\n",
       "      <td>1</td>\n",
       "      <td>2008-04-18</td>\n",
       "      <td>M Chinnaswamy Stadium</td>\n",
       "      <td>Kolkata Knight Riders</td>\n",
       "      <td>Royal Challengers Bangalore</td>\n",
       "      <td>BB McCullum</td>\n",
       "      <td>P Kumar</td>\n",
       "      <td>2</td>\n",
       "      <td>0</td>\n",
       "      <td>0.4</td>\n",
       "      <td>2</td>\n",
       "      <td>0</td>\n",
       "      <td>0</td>\n",
       "      <td>0</td>\n",
       "      <td>222</td>\n",
       "    </tr>\n",
       "  </tbody>\n",
       "</table>\n",
       "</div>"
      ],
      "text/plain": [
       "   mid        date                  venue               bat_team  \\\n",
       "0    1  2008-04-18  M Chinnaswamy Stadium  Kolkata Knight Riders   \n",
       "1    1  2008-04-18  M Chinnaswamy Stadium  Kolkata Knight Riders   \n",
       "2    1  2008-04-18  M Chinnaswamy Stadium  Kolkata Knight Riders   \n",
       "3    1  2008-04-18  M Chinnaswamy Stadium  Kolkata Knight Riders   \n",
       "4    1  2008-04-18  M Chinnaswamy Stadium  Kolkata Knight Riders   \n",
       "\n",
       "                     bowl_team      batsman   bowler  runs  wickets  overs  \\\n",
       "0  Royal Challengers Bangalore   SC Ganguly  P Kumar     1        0    0.1   \n",
       "1  Royal Challengers Bangalore  BB McCullum  P Kumar     1        0    0.2   \n",
       "2  Royal Challengers Bangalore  BB McCullum  P Kumar     2        0    0.2   \n",
       "3  Royal Challengers Bangalore  BB McCullum  P Kumar     2        0    0.3   \n",
       "4  Royal Challengers Bangalore  BB McCullum  P Kumar     2        0    0.4   \n",
       "\n",
       "   runs_last_5  wickets_last_5  striker  non-striker  total  \n",
       "0            1               0        0            0    222  \n",
       "1            1               0        0            0    222  \n",
       "2            2               0        0            0    222  \n",
       "3            2               0        0            0    222  \n",
       "4            2               0        0            0    222  "
      ]
     },
     "execution_count": 4,
     "metadata": {},
     "output_type": "execute_result"
    }
   ],
   "source": [
    "df.head()"
   ]
  },
  {
   "cell_type": "code",
   "execution_count": 5,
   "id": "73f34ff0-2b87-4357-a509-c9cd2ef04d37",
   "metadata": {},
   "outputs": [
    {
     "data": {
      "text/html": [
       "<div>\n",
       "<style scoped>\n",
       "    .dataframe tbody tr th:only-of-type {\n",
       "        vertical-align: middle;\n",
       "    }\n",
       "\n",
       "    .dataframe tbody tr th {\n",
       "        vertical-align: top;\n",
       "    }\n",
       "\n",
       "    .dataframe thead th {\n",
       "        text-align: right;\n",
       "    }\n",
       "</style>\n",
       "<table border=\"1\" class=\"dataframe\">\n",
       "  <thead>\n",
       "    <tr style=\"text-align: right;\">\n",
       "      <th></th>\n",
       "      <th>mid</th>\n",
       "      <th>date</th>\n",
       "      <th>venue</th>\n",
       "      <th>bat_team</th>\n",
       "      <th>bowl_team</th>\n",
       "      <th>batsman</th>\n",
       "      <th>bowler</th>\n",
       "      <th>runs</th>\n",
       "      <th>wickets</th>\n",
       "      <th>overs</th>\n",
       "      <th>runs_last_5</th>\n",
       "      <th>wickets_last_5</th>\n",
       "      <th>striker</th>\n",
       "      <th>non-striker</th>\n",
       "      <th>total</th>\n",
       "    </tr>\n",
       "  </thead>\n",
       "  <tbody>\n",
       "    <tr>\n",
       "      <th>76009</th>\n",
       "      <td>617</td>\n",
       "      <td>2017-05-21</td>\n",
       "      <td>Rajiv Gandhi International Stadium, Uppal</td>\n",
       "      <td>Mumbai Indians</td>\n",
       "      <td>Rising Pune Supergiant</td>\n",
       "      <td>KH Pandya</td>\n",
       "      <td>DT Christian</td>\n",
       "      <td>121</td>\n",
       "      <td>7</td>\n",
       "      <td>19.2</td>\n",
       "      <td>40</td>\n",
       "      <td>0</td>\n",
       "      <td>40</td>\n",
       "      <td>12</td>\n",
       "      <td>129</td>\n",
       "    </tr>\n",
       "    <tr>\n",
       "      <th>76010</th>\n",
       "      <td>617</td>\n",
       "      <td>2017-05-21</td>\n",
       "      <td>Rajiv Gandhi International Stadium, Uppal</td>\n",
       "      <td>Mumbai Indians</td>\n",
       "      <td>Rising Pune Supergiant</td>\n",
       "      <td>KH Pandya</td>\n",
       "      <td>DT Christian</td>\n",
       "      <td>127</td>\n",
       "      <td>7</td>\n",
       "      <td>19.3</td>\n",
       "      <td>46</td>\n",
       "      <td>0</td>\n",
       "      <td>46</td>\n",
       "      <td>12</td>\n",
       "      <td>129</td>\n",
       "    </tr>\n",
       "    <tr>\n",
       "      <th>76011</th>\n",
       "      <td>617</td>\n",
       "      <td>2017-05-21</td>\n",
       "      <td>Rajiv Gandhi International Stadium, Uppal</td>\n",
       "      <td>Mumbai Indians</td>\n",
       "      <td>Rising Pune Supergiant</td>\n",
       "      <td>KH Pandya</td>\n",
       "      <td>DT Christian</td>\n",
       "      <td>128</td>\n",
       "      <td>7</td>\n",
       "      <td>19.4</td>\n",
       "      <td>47</td>\n",
       "      <td>0</td>\n",
       "      <td>47</td>\n",
       "      <td>12</td>\n",
       "      <td>129</td>\n",
       "    </tr>\n",
       "    <tr>\n",
       "      <th>76012</th>\n",
       "      <td>617</td>\n",
       "      <td>2017-05-21</td>\n",
       "      <td>Rajiv Gandhi International Stadium, Uppal</td>\n",
       "      <td>Mumbai Indians</td>\n",
       "      <td>Rising Pune Supergiant</td>\n",
       "      <td>MG Johnson</td>\n",
       "      <td>DT Christian</td>\n",
       "      <td>129</td>\n",
       "      <td>7</td>\n",
       "      <td>19.5</td>\n",
       "      <td>48</td>\n",
       "      <td>0</td>\n",
       "      <td>47</td>\n",
       "      <td>13</td>\n",
       "      <td>129</td>\n",
       "    </tr>\n",
       "    <tr>\n",
       "      <th>76013</th>\n",
       "      <td>617</td>\n",
       "      <td>2017-05-21</td>\n",
       "      <td>Rajiv Gandhi International Stadium, Uppal</td>\n",
       "      <td>Mumbai Indians</td>\n",
       "      <td>Rising Pune Supergiant</td>\n",
       "      <td>KH Pandya</td>\n",
       "      <td>DT Christian</td>\n",
       "      <td>129</td>\n",
       "      <td>8</td>\n",
       "      <td>19.6</td>\n",
       "      <td>47</td>\n",
       "      <td>1</td>\n",
       "      <td>47</td>\n",
       "      <td>13</td>\n",
       "      <td>129</td>\n",
       "    </tr>\n",
       "  </tbody>\n",
       "</table>\n",
       "</div>"
      ],
      "text/plain": [
       "       mid        date                                      venue  \\\n",
       "76009  617  2017-05-21  Rajiv Gandhi International Stadium, Uppal   \n",
       "76010  617  2017-05-21  Rajiv Gandhi International Stadium, Uppal   \n",
       "76011  617  2017-05-21  Rajiv Gandhi International Stadium, Uppal   \n",
       "76012  617  2017-05-21  Rajiv Gandhi International Stadium, Uppal   \n",
       "76013  617  2017-05-21  Rajiv Gandhi International Stadium, Uppal   \n",
       "\n",
       "             bat_team               bowl_team     batsman        bowler  runs  \\\n",
       "76009  Mumbai Indians  Rising Pune Supergiant   KH Pandya  DT Christian   121   \n",
       "76010  Mumbai Indians  Rising Pune Supergiant   KH Pandya  DT Christian   127   \n",
       "76011  Mumbai Indians  Rising Pune Supergiant   KH Pandya  DT Christian   128   \n",
       "76012  Mumbai Indians  Rising Pune Supergiant  MG Johnson  DT Christian   129   \n",
       "76013  Mumbai Indians  Rising Pune Supergiant   KH Pandya  DT Christian   129   \n",
       "\n",
       "       wickets  overs  runs_last_5  wickets_last_5  striker  non-striker  \\\n",
       "76009        7   19.2           40               0       40           12   \n",
       "76010        7   19.3           46               0       46           12   \n",
       "76011        7   19.4           47               0       47           12   \n",
       "76012        7   19.5           48               0       47           13   \n",
       "76013        8   19.6           47               1       47           13   \n",
       "\n",
       "       total  \n",
       "76009    129  \n",
       "76010    129  \n",
       "76011    129  \n",
       "76012    129  \n",
       "76013    129  "
      ]
     },
     "execution_count": 5,
     "metadata": {},
     "output_type": "execute_result"
    }
   ],
   "source": [
    "df.tail()"
   ]
  },
  {
   "cell_type": "code",
   "execution_count": 6,
   "id": "e4e35196-a404-43c1-af33-68d31a633ebf",
   "metadata": {},
   "outputs": [
    {
     "data": {
      "text/plain": [
       "(76014, 15)"
      ]
     },
     "execution_count": 6,
     "metadata": {},
     "output_type": "execute_result"
    }
   ],
   "source": [
    "df.shape"
   ]
  },
  {
   "cell_type": "code",
   "execution_count": 7,
   "id": "1c1df852-aeda-44c7-a708-bfd289a9f649",
   "metadata": {},
   "outputs": [
    {
     "name": "stdout",
     "output_type": "stream",
     "text": [
      "<class 'pandas.core.frame.DataFrame'>\n",
      "RangeIndex: 76014 entries, 0 to 76013\n",
      "Data columns (total 15 columns):\n",
      " #   Column          Non-Null Count  Dtype  \n",
      "---  ------          --------------  -----  \n",
      " 0   mid             76014 non-null  int64  \n",
      " 1   date            76014 non-null  object \n",
      " 2   venue           76014 non-null  object \n",
      " 3   bat_team        76014 non-null  object \n",
      " 4   bowl_team       76014 non-null  object \n",
      " 5   batsman         76014 non-null  object \n",
      " 6   bowler          76014 non-null  object \n",
      " 7   runs            76014 non-null  int64  \n",
      " 8   wickets         76014 non-null  int64  \n",
      " 9   overs           76014 non-null  float64\n",
      " 10  runs_last_5     76014 non-null  int64  \n",
      " 11  wickets_last_5  76014 non-null  int64  \n",
      " 12  striker         76014 non-null  int64  \n",
      " 13  non-striker     76014 non-null  int64  \n",
      " 14  total           76014 non-null  int64  \n",
      "dtypes: float64(1), int64(8), object(6)\n",
      "memory usage: 8.7+ MB\n"
     ]
    }
   ],
   "source": [
    "df.info()"
   ]
  },
  {
   "cell_type": "code",
   "execution_count": 8,
   "id": "56e8f827-9c2f-404f-94d6-ffb57f46b29e",
   "metadata": {},
   "outputs": [
    {
     "name": "stdout",
     "output_type": "stream",
     "text": [
      "mid - 617\n",
      "date - 442\n",
      "venue - 35\n",
      "bat_team - 14\n",
      "bowl_team - 14\n",
      "batsman - 411\n",
      "bowler - 329\n",
      "runs - 252\n",
      "wickets - 11\n",
      "overs - 140\n",
      "runs_last_5 - 102\n",
      "wickets_last_5 - 8\n",
      "striker - 155\n",
      "non-striker - 88\n",
      "total - 138\n"
     ]
    }
   ],
   "source": [
    "for col in df.columns:\n",
    "    print(f\"{col} - {df[col].value_counts().count()}\")"
   ]
  },
  {
   "cell_type": "code",
   "execution_count": 9,
   "id": "f3ad5a71-a9bb-4074-b691-5bb20e998e47",
   "metadata": {},
   "outputs": [],
   "source": [
    "# dropping mid column i.e match_id\n",
    "df.drop(\"mid\", axis =1 , inplace = True)"
   ]
  },
  {
   "cell_type": "code",
   "execution_count": 10,
   "id": "a274ffe4-9922-4ead-ae41-789b1962aae1",
   "metadata": {},
   "outputs": [],
   "source": [
    "# dropping date column\n",
    "df.drop(\"date\", axis =1 , inplace = True)"
   ]
  },
  {
   "cell_type": "code",
   "execution_count": 11,
   "id": "cb5b16b5-baad-42d0-b855-b927c3fa486c",
   "metadata": {},
   "outputs": [
    {
     "data": {
      "text/plain": [
       "array(['SC Ganguly', 'BB McCullum', 'RT Ponting', 'DJ Hussey',\n",
       "       'Mohammad Hafeez', 'PA Patel', 'ML Hayden', 'MEK Hussey',\n",
       "       'MS Dhoni', 'SK Raina', 'JDP Oram', 'S Badrinath', 'T Kohli',\n",
       "       'YK Pathan', 'SR Watson', 'M Kaif', 'DS Lehmann', 'RA Jadeja',\n",
       "       'M Rawat', 'D Salunkhe', 'SK Warne', 'SK Trivedi', 'L Ronchi',\n",
       "       'ST Jayasuriya', 'DJ Thornely', 'RV Uthappa', 'PR Shah',\n",
       "       'AM Nayar', 'SM Pollock', 'Harbhajan Singh', 'AC Gilchrist',\n",
       "       'Y Venugopal Rao', 'VVS Laxman', 'A Symonds', 'RG Sharma',\n",
       "       'SB Styris', 'AS Yadav', 'SB Bangar', 'WPUJC Vaas', 'RP Singh',\n",
       "       'K Goel', 'JR Hopes', 'KC Sangakkara', 'DPMD Jayawardene',\n",
       "       'Yuvraj Singh', 'IK Pathan', 'S Sohal', 'B Lee', 'PP Chawla',\n",
       "       'WA Mota', 'Shahid Afridi', 'RR Sarwan', 'S Sreesanth',\n",
       "       'VRV Singh', 'S Chanderpaul', 'R Dravid', 'LRPL Taylor',\n",
       "       'JH Kallis', 'V Kohli', 'MV Boucher', 'P Kumar', 'SB Joshi',\n",
       "       'Z Khan', 'R Vinay Kumar', 'WP Saha', 'LR Shukla', 'AB Agarkar',\n",
       "       'M Kartik', 'I Sharma', 'AM Rahane', 'DJ Bravo', 'MA Khote',\n",
       "       'G Gambhir', 'V Sehwag', 'S Dhawan', 'Shoaib Malik', 'MK Tiwary',\n",
       "       'KD Karthik', 'R Bhatia', 'MF Maharoof', 'VY Mahesh', 'DB Das',\n",
       "       'HH Gibbs', 'DNT Zoysa', 'D Kalyankrishna', 'GC Smith',\n",
       "       'SA Asnodkar', 'Sohail Tanvir', 'SP Fleming', 'S Vidyut',\n",
       "       'JA Morkel', 'LPC Silva', 'DB Ravi Teja', 'SE Marsh',\n",
       "       'YV Takawale', 'SS Tiwary', 'RR Raje', 'Joginder Sharma',\n",
       "       'MS Gony', 'M Muralitharan', 'M Ntini', 'W Jaffer', 'CL White',\n",
       "       'Misbah-ul-Haq', 'DT Patil', 'A Kumble', 'DW Steyn', 'S Anirudha',\n",
       "       'MM Patel', 'AB de Villiers', 'A Chopra', 'BJ Hodge', 'T Taibu',\n",
       "       'Umar Gul', 'PP Ojha', 'SP Goswami', 'B Akhil', 'Salman Butt',\n",
       "       'TM Dilshan', 'A Mishra', 'J Arunkumar', 'Iqbal Abdulla',\n",
       "       'CK Kapugedera', 'LA Pomersbach', 'Shoaib Akhtar', 'AB Dinda',\n",
       "       'SR Tendulkar', 'B Chipli', 'DR Smith', 'SD Chitnis',\n",
       "       'Kamran Akmal', 'TM Srivastava', 'MK Pandey', 'RR Powar',\n",
       "       'JP Duminy', 'JD Ryder', 'KP Pietersen', 'CH Gayle',\n",
       "       'MC Henriques', 'A Flintoff', 'FH Edwards', 'PC Valthaty',\n",
       "       'RJ Quiney', 'AD Mascarenhas', 'AS Raut', 'Pankaj Singh',\n",
       "       'RS Bopara', 'DL Vettori', 'M Manhas', 'PJ Sangwan', 'MN van Wyk',\n",
       "       'AA Bilakhia', 'TL Suman', 'Shoaib Ahmed', 'GR Napier',\n",
       "       'R Bishnoi', 'RE van der Merwe', 'KP Appanna', 'M Vijay',\n",
       "       'SB Jakati', 'L Balaji', 'NV Ojha', 'LA Carseldine', 'RJ Harris',\n",
       "       'D du Preez', 'DS Kulkarni', 'SM Harwood', 'Yashpal Singh',\n",
       "       'AN Ghosh', 'AD Mathews', 'SM Katich', 'DA Warner', 'J Botha',\n",
       "       'A Nehra', 'Mashrafe Mortaza', 'GJ Bailey', 'AB McDonald',\n",
       "       'Y Nagar', 'Niraj Patel', 'T Henderson', 'A Singh', 'R Ashwin',\n",
       "       'T Thushara', 'Mohammad Ashraful', 'CA Pujara', 'OA Shah',\n",
       "       'AP Tare', 'AT Rayudu', 'R Sathish', 'R McLaren', 'MS Bisla',\n",
       "       'YA Abdulla', 'EJG Morgan', 'AA Jhunjhunwala', 'P Dogra',\n",
       "       'A Uniyal', 'KA Pollard', 'MJ Lumb', 'DR Martyn', 'S Narwal',\n",
       "       'M Morkel', 'Anirudh Singh', 'Jaskaran Singh', 'FY Fazal',\n",
       "       'AC Voges', 'MD Mishra', 'J Theron', 'R Sharma', 'Mandeep Singh',\n",
       "       'KM Jadhav', 'SW Tait', 'PD Collingwood', 'VS Malik',\n",
       "       'SJ Srivastava', 'AP Dole', 'Bipul Sharma', 'DE Bollinger',\n",
       "       'BAW Mendis', 'B Sumanth', 'C Madan', 'AG Paunikar', 'AJ Finch',\n",
       "       'MR Marsh', 'STR Binny', 'IR Jaggi', 'DT Christian', 'RV Gomez',\n",
       "       'UBT Chand', 'UT Yadav', 'Sunny Singh', 'NJ Rimmington',\n",
       "       'MA Agarwal', 'AUK Pathan', 'AL Menaria', 'DJ Jacobs',\n",
       "       'WD Parnell', 'TD Paine', 'SB Wagh', 'AC Thomas', 'BJ Haddin',\n",
       "       'NLTC Perera', 'MS Wade', 'JE Taylor', 'RN ten Doeschate',\n",
       "       'SL Malinga', 'AG Murtaza', 'TR Birt', 'Harpreet Singh',\n",
       "       'NL McCullum', 'DH Yagnik', 'AC Blizzard', 'M Klinger',\n",
       "       'I Malhotra', 'A Mithun', 'P Parameswaran', 'AA Chavan',\n",
       "       'ND Doshi', 'CJ Ferguson', 'B Kumar', 'S Rana', 'JEC Franklin',\n",
       "       'Shakib Al Hasan', 'F du Plessis', 'SPD Smith', 'MN Samuels',\n",
       "       'KK Cooper', 'HV Patel', 'Ankit Sharma', 'RE Levi', 'RR Bhatkal',\n",
       "       'Harmeet Singh', 'BA Bhatt', 'CJ McKay', 'DJ Harris', 'N Saini',\n",
       "       'DA Miller', 'Azhar Mahmood', 'A Ashish Reddy', 'V Pratap Singh',\n",
       "       'BB Samantray', 'RJ Peterson', 'S Nadeem', 'VR Aaron', 'MJ Clarke',\n",
       "       'AP Majumdar', 'Gurkeerat Singh', 'P Awana', 'SP Narine',\n",
       "       'A Chandila', 'PA Reddy', 'MC Juneja', 'AD Russell', 'KK Nair',\n",
       "       'KB Arun Karthik', 'GH Vihari', 'MDKJ Perera', 'R Shukla',\n",
       "       'JD Unadkat', 'M Vohra', 'JP Faulkner', 'R Rampaul', 'BJ Rohrer',\n",
       "       'Q de Kock', 'KV Sharma', 'SMSM Senanayake', 'LJ Wright',\n",
       "       'X Thalaivan Sargunam', 'DJG Sammy', 'MG Johnson', 'A Mukund',\n",
       "       'SV Samson', 'BMAJ Mendis', 'KL Rahul', 'CM Gautam',\n",
       "       'KW Richardson', 'Parvez Rasool', 'GJ Maxwell', 'R Dhawan',\n",
       "       'SA Yadav', 'CJ Anderson', 'JJ Bumrah', 'CA Lynn', 'MA Starc',\n",
       "       'AR Patel', 'Sandeep Sharma', 'BR Dunk', 'Shivam Sharma',\n",
       "       'LMP Simmons', 'VH Zol', 'BCJ Cutting', 'Mohammed Shami',\n",
       "       'BE Hendricks', 'S Gopal', 'M de Lange', 'RR Rossouw', 'JO Holder',\n",
       "       'JDS Neesham', 'Imran Tahir', 'MM Sharma', 'DJ Hooda', 'CH Morris',\n",
       "       'SS Iyer', 'SA Abbott', 'AN Ahmed', 'YS Chahal', 'J Suchith',\n",
       "       'P Negi', 'RG More', 'Anureet Singh', 'HH Pandya',\n",
       "       'NM Coulter-Nile', 'PV Tambe', 'MJ McClenaghan', 'DJ Muthuswami',\n",
       "       'SN Thakur', 'SN Khan', 'D Wiese', 'S Aravind', 'JC Buttler',\n",
       "       'CR Brathwaite', 'MP Stoinis', 'C Munro', 'P Sahu', 'KH Pandya',\n",
       "       'TG Southee', 'MJ Guptill', 'KJ Abbott', 'TM Head', 'AD Nath',\n",
       "       'NS Naik', 'Ishan Kishan', 'SW Billings', 'RR Pant',\n",
       "       'KS Williamson', 'KC Cariappa', 'PSP Handscomb', 'Sachin Baby',\n",
       "       'J Yadav', 'UT Khawaja', 'HM Amla', 'BB Sran', 'N Rana',\n",
       "       'F Behardien', 'ER Dwivedi', 'JJ Roy', 'BA Stokes', 'Vishnu Vinod',\n",
       "       'TS Mills', 'Basil Thampi', 'CR Woakes', 'V Shankar',\n",
       "       'Rashid Khan', 'RA Tripathi', 'RD Chahar', 'LH Ferguson',\n",
       "       'C de Grandhomme', 'PJ Cummins', 'Mohammad Nabi', 'Kuldeep Yadav',\n",
       "       'Washington Sundar', 'S Badree', 'A Choudhary', 'AR Bawne',\n",
       "       'AJ Tye', 'Ankit Soni', 'K Rabada', 'AF Milne', 'SP Jackson',\n",
       "       'Swapnil Singh', 'R Tewatia', 'AS Rajpoot'], dtype=object)"
      ]
     },
     "execution_count": 11,
     "metadata": {},
     "output_type": "execute_result"
    }
   ],
   "source": [
    "df[\"batsman\"].unique()"
   ]
  },
  {
   "cell_type": "code",
   "execution_count": 12,
   "id": "3cd2f3a2-76f3-4a18-a561-b29087f58d6d",
   "metadata": {
    "scrolled": true
   },
   "outputs": [
    {
     "data": {
      "text/plain": [
       "array(['P Kumar', 'Z Khan', 'AA Noffke', 'JH Kallis', 'SB Joshi',\n",
       "       'CL White', 'B Lee', 'S Sreesanth', 'JR Hopes', 'IK Pathan',\n",
       "       'K Goel', 'PP Chawla', 'WA Mota', 'GD McGrath', 'B Geeves',\n",
       "       'MF Maharoof', 'R Bhatia', 'DL Vettori', 'R Vinay Kumar',\n",
       "       'B Akhil', 'AB Dinda', 'I Sharma', 'AB Agarkar', 'M Kartik',\n",
       "       'Mohammad Hafeez', 'DJ Hussey', 'MM Patel', 'SR Watson',\n",
       "       'SK Trivedi', 'SK Warne', 'D Salunkhe', 'Pankaj Singh',\n",
       "       'YK Pathan', 'Mohammad Asif', 'VY Mahesh', 'SM Pollock', 'A Nehra',\n",
       "       'DS Kulkarni', 'Harbhajan Singh', 'DJ Bravo', 'VS Yeligati',\n",
       "       'AM Nayar', 'MA Khote', 'Sohail Tanvir', 'JDP Oram', 'MS Gony',\n",
       "       'P Amarnath', 'M Muralitharan', 'Joginder Sharma', 'RP Singh',\n",
       "       'DNT Zoysa', 'SB Bangar', 'Shahid Afridi', 'PP Ojha',\n",
       "       'D Kalyankrishna', 'VRV Singh', 'Yuvraj Singh', 'DW Steyn',\n",
       "       'CRD Fernando', 'ST Jayasuriya', 'V Kohli', 'Gagandeep Singh',\n",
       "       'Umar Gul', 'SC Ganguly', 'LR Shukla', 'PJ Sangwan',\n",
       "       'Shoaib Malik', 'V Sehwag', 'A Kumble', 'DP Vijaykumar',\n",
       "       'SB Styris', 'RR Raje', 'JA Morkel', 'L Balaji', 'CK Kapugedera',\n",
       "       'DR Smith', 'WPUJC Vaas', 'Y Venugopal Rao', 'AD Mascarenhas',\n",
       "       'A Mishra', 'DJ Thornely', 'PM Sarvesh Kumar', 'Abdur Razzak',\n",
       "       'TM Dilshan', 'SD Chitnis', 'M Ntini', 'RR Powar', 'SK Raina',\n",
       "       'BAW Mendis', 'T Thushara', 'A Flintoff', 'Kamran Khan',\n",
       "       'T Henderson', 'FH Edwards', 'Harmeet Singh', 'KP Pietersen',\n",
       "       'LRPL Taylor', 'JD Ryder', 'Anureet Singh', 'CH Gayle', 'RR Bose',\n",
       "       'YA Abdulla', 'RS Bopara', 'SL Malinga', 'DP Nannes', 'RG Sharma',\n",
       "       'Shoaib Ahmed', 'BJ Hodge', 'RA Jadeja', 'RE van der Merwe',\n",
       "       'KP Appanna', 'JP Duminy', 'SR Tendulkar', 'VS Malik',\n",
       "       'SM Harwood', 'AS Raut', 'D du Preez', 'RJ Harris', 'TL Suman',\n",
       "       'A Singh', 'M Morkel', 'LA Carseldine', 'S Tyagi', 'SB Jakati',\n",
       "       'A Mithun', 'AM Rahane', 'A Symonds', 'C Nanda', 'J Botha',\n",
       "       'CK Langeveldt', 'SS Sarkar', 'AM Salvi', 'Jaskaran Singh',\n",
       "       'SW Tait', 'A Uniyal', 'AA Jhunjhunwala', 'AD Mathews',\n",
       "       'RS Gavaskar', 'R Ashwin', 'JM Kemp', 'S Ladda', 'SE Bond',\n",
       "       'SJ Srivastava', 'Bipul Sharma', 'Y Nagar', 'UT Yadav',\n",
       "       'MC Henriques', 'R McLaren', 'J Theron', 'S Narwal', 'AC Voges',\n",
       "       'KAJ Roach', 'KA Pollard', 'C Ganapathy', 'SB Wagh', 'R Sharma',\n",
       "       'AN Ahmed', 'R Sathish', 'AP Dole', 'FY Fazal', 'PD Collingwood',\n",
       "       'MR Marsh', 'L Ablish', 'S Sriram', 'AB McDonald', 'DE Bollinger',\n",
       "       'JD Unadkat', 'MK Tiwary', 'ND Doshi', 'Iqbal Abdulla',\n",
       "       'AL Menaria', 'STR Binny', 'AUK Pathan', 'AG Murtaza',\n",
       "       'JEC Franklin', 'AC Thomas', 'WD Parnell', 'M Manhas',\n",
       "       'DT Christian', 'DB Ravi Teja', 'BA Bhatt', 'JJ van der Wath',\n",
       "       'S Aravind', 'R Ninan', 'Shakib Al Hasan', 'NLTC Perera',\n",
       "       'RV Gomez', 'PC Valthaty', 'S Nadeem', 'S Randiv',\n",
       "       'J Syed Mohammad', 'NL McCullum', 'JE Taylor', 'KMDN Kulasekara',\n",
       "       'TG Southee', 'P Parameswaran', 'S Dhawan', 'B Kumar', 'AA Kazi',\n",
       "       'VR Aaron', 'P Prasanth', 'Y Gnaneswara Rao', 'AA Chavan',\n",
       "       'RW Price', 'GJ Maxwell', 'JP Faulkner', 'DAJ Bracewell',\n",
       "       'Ankit Sharma', 'DJ Harris', 'TP Sudhindra', 'SP Narine',\n",
       "       'HV Patel', 'KK Cooper', 'GB Hogg', 'P Awana', 'MN Samuels',\n",
       "       'AD Russell', 'Azhar Mahmood', 'A Chandila', 'P Negi',\n",
       "       'RJ Peterson', 'CJ McKay', 'R Shukla', 'MJ Clarke',\n",
       "       'V Pratap Singh', 'A Ashish Reddy', 'BW Hilfenhaus', 'K Upadhyay',\n",
       "       'Sunny Gupta', 'MG Johnson', 'JJ Bumrah', 'AS Rajpoot',\n",
       "       'B Laughlin', 'GH Vihari', 'Mohammed Shami', 'BMAJ Mendis',\n",
       "       'CH Morris', 'Anand Rajan', 'AJ Finch', 'MM Sharma', 'KV Sharma',\n",
       "       'SMSM Senanayake', 'R Rampaul', 'R Dhawan', 'JO Holder',\n",
       "       'IC Pandey', 'LJ Wright', 'S Kaul', 'YS Chahal', 'KW Richardson',\n",
       "       'DJG Sammy', 'Sandeep Sharma', 'PV Tambe', 'Parvez Rasool',\n",
       "       'RN ten Doeschate', 'MG Neser', 'NM Coulter-Nile', 'CJ Anderson',\n",
       "       'MA Starc', 'AR Patel', 'JDS Neesham', 'M Vijay', 'SA Yadav',\n",
       "       'S Badree', 'R Tewatia', 'V Shankar', 'Imran Tahir',\n",
       "       'Shivam Sharma', 'S Rana', 'BE Hendricks', 'PJ Cummins',\n",
       "       'K Santokie', 'S Gopal', 'Karanveer Singh', 'DJ Muthuswami',\n",
       "       'TA Boult', 'SA Abbott', 'DJ Hooda', 'P Suyal', 'J Suchith',\n",
       "       'D Wiese', 'MJ McClenaghan', 'HH Pandya', 'RG More', 'GS Sandhu',\n",
       "       'M de Lange', 'J Yadav', 'Gurkeerat Singh', 'M Ashwin',\n",
       "       'JW Hastings', 'C Munro', 'Mustafizur Rahman', 'CR Brathwaite',\n",
       "       'KJ Abbott', 'P Sahu', 'BB Sran', 'KH Pandya', 'S Kaushik',\n",
       "       'T Shamsi', 'MP Stoinis', 'Swapnil Singh', 'SM Boland',\n",
       "       'CJ Jordan', 'KC Cariappa', 'A Zampa', 'BCJ Cutting', 'DL Chahar',\n",
       "       'KS Williamson', 'Kuldeep Yadav', 'TS Mills', 'A Choudhary',\n",
       "       'TM Head', 'BA Stokes', 'CR Woakes', 'T Natarajan', 'Rashid Khan',\n",
       "       'C de Grandhomme', 'Basil Thampi', 'AJ Tye', 'AF Milne',\n",
       "       'K Rabada', 'Washington Sundar', 'SN Thakur', 'SS Agarwal',\n",
       "       'NB Singh', 'Ankit Soni', 'Mohammad Nabi', 'Mohammed Siraj',\n",
       "       'LH Ferguson'], dtype=object)"
      ]
     },
     "execution_count": 12,
     "metadata": {},
     "output_type": "execute_result"
    }
   ],
   "source": [
    "df[\"bowler\"].unique()"
   ]
  },
  {
   "cell_type": "code",
   "execution_count": 13,
   "id": "4b56c6ff-52bf-49f8-8be3-7429afe01a8a",
   "metadata": {},
   "outputs": [],
   "source": [
    "# columns to convert into numerial variables\n",
    "# venue\n",
    "# bat_team  \n",
    "# bowl_team \n",
    "# batsman   \n",
    "# bowler   "
   ]
  },
  {
   "cell_type": "code",
   "execution_count": 14,
   "id": "ff16bd3a-3eae-4c26-baf9-c9eb2cf1893f",
   "metadata": {},
   "outputs": [],
   "source": [
    "from sklearn.preprocessing import LabelEncoder"
   ]
  },
  {
   "cell_type": "code",
   "execution_count": 15,
   "id": "0a2f2415-87d7-4bd6-8a34-631de5a6c19a",
   "metadata": {},
   "outputs": [],
   "source": [
    "venue_encoder = LabelEncoder()\n",
    "bat_team_encoder = LabelEncoder()\n",
    "bowl_team_encoder = LabelEncoder()\n",
    "batsman_encoder = LabelEncoder()\n",
    "bowler_encoder = LabelEncoder()"
   ]
  },
  {
   "cell_type": "code",
   "execution_count": 16,
   "id": "99244f57-15a4-4f60-a87c-8bb8005e77ef",
   "metadata": {},
   "outputs": [],
   "source": [
    "df['venue'] = venue_encoder.fit_transform(df[\"venue\"])\n",
    "df['bat_team'] = bat_team_encoder.fit_transform(df[\"bat_team\"])\n",
    "df['bowl_team'] = bowl_team_encoder.fit_transform(df[\"bowl_team\"])\n",
    "df['batsman'] = batsman_encoder.fit_transform(df[\"batsman\"])\n",
    "df['bowler'] = bowler_encoder.fit_transform(df[\"bowler\"])"
   ]
  },
  {
   "cell_type": "code",
   "execution_count": 17,
   "id": "88aa3c18-3914-4ac0-adad-a7eae3557db5",
   "metadata": {},
   "outputs": [
    {
     "data": {
      "text/plain": [
       "array([ 6,  0,  9,  7,  1,  4, 12,  2,  5,  8, 13, 11,  3, 10])"
      ]
     },
     "execution_count": 17,
     "metadata": {},
     "output_type": "execute_result"
    }
   ],
   "source": [
    "df[\"bat_team\"].unique()"
   ]
  },
  {
   "cell_type": "code",
   "execution_count": null,
   "id": "a4d759ce-dd2e-40a4-a215-9ea13efe66ea",
   "metadata": {},
   "outputs": [],
   "source": []
  },
  {
   "cell_type": "code",
   "execution_count": 18,
   "id": "4e813cf5-e4b6-4c24-9d6f-730227a7bd93",
   "metadata": {},
   "outputs": [
    {
     "data": {
      "text/plain": [
       "wickets          -0.337343\n",
       "wickets_last_5   -0.273475\n",
       "bowl_team        -0.048799\n",
       "venue            -0.036385\n",
       "bowler           -0.011267\n",
       "batsman           0.017128\n",
       "overs             0.022282\n",
       "bat_team          0.031833\n",
       "runs              0.254498\n",
       "non-striker       0.293233\n",
       "runs_last_5       0.368253\n",
       "striker           0.381664\n",
       "total             1.000000\n",
       "Name: total, dtype: float64"
      ]
     },
     "execution_count": 18,
     "metadata": {},
     "output_type": "execute_result"
    }
   ],
   "source": [
    "df.corr()[\"total\"].sort_values()"
   ]
  },
  {
   "cell_type": "code",
   "execution_count": 19,
   "id": "0a671bb7-89fe-489f-879d-c8237c9faf72",
   "metadata": {},
   "outputs": [
    {
     "data": {
      "text/plain": [
       "<Axes: >"
      ]
     },
     "execution_count": 19,
     "metadata": {},
     "output_type": "execute_result"
    },
    {
     "data": {
      "image/png": "[encoded data removed]",
      "text/plain": [
       "<Figure size 640x480 with 2 Axes>"
      ]
     },
     "metadata": {},
     "output_type": "display_data"
    }
   ],
   "source": [
    "sns.heatmap(df.corr(), cmap=\"viridis\")"
   ]
  },
  {
   "cell_type": "code",
   "execution_count": 20,
   "id": "6d1907bc-26a1-465b-96f7-82f9e3628fd8",
   "metadata": {},
   "outputs": [
    {
     "data": {
      "text/plain": [
       "<Axes: >"
      ]
     },
     "execution_count": 20,
     "metadata": {},
     "output_type": "execute_result"
    },
    {
     "data": {
      "image/png": "[encoded data removed]",
      "text/plain": [
       "<Figure size 640x480 with 1 Axes>"
      ]
     },
     "metadata": {},
     "output_type": "display_data"
    }
   ],
   "source": [
    "sns.boxplot(data=df, orient=\"h\")"
   ]
  },
  {
   "cell_type": "code",
   "execution_count": 21,
   "id": "67514d99-0558-4196-9182-ce329a370619",
   "metadata": {},
   "outputs": [
    {
     "name": "stdout",
     "output_type": "stream",
     "text": [
      "<class 'pandas.core.frame.DataFrame'>\n",
      "RangeIndex: 76014 entries, 0 to 76013\n",
      "Data columns (total 13 columns):\n",
      " #   Column          Non-Null Count  Dtype  \n",
      "---  ------          --------------  -----  \n",
      " 0   venue           76014 non-null  int32  \n",
      " 1   bat_team        76014 non-null  int32  \n",
      " 2   bowl_team       76014 non-null  int32  \n",
      " 3   batsman         76014 non-null  int32  \n",
      " 4   bowler          76014 non-null  int32  \n",
      " 5   runs            76014 non-null  int64  \n",
      " 6   wickets         76014 non-null  int64  \n",
      " 7   overs           76014 non-null  float64\n",
      " 8   runs_last_5     76014 non-null  int64  \n",
      " 9   wickets_last_5  76014 non-null  int64  \n",
      " 10  striker         76014 non-null  int64  \n",
      " 11  non-striker     76014 non-null  int64  \n",
      " 12  total           76014 non-null  int64  \n",
      "dtypes: float64(1), int32(5), int64(7)\n",
      "memory usage: 6.1 MB\n"
     ]
    }
   ],
   "source": [
    "df.info()"
   ]
  },
  {
   "cell_type": "code",
   "execution_count": 22,
   "id": "fa8429c5-16d4-49d7-8a83-cc9a5404284c",
   "metadata": {},
   "outputs": [
    {
     "data": {
      "text/html": [
       "<div>\n",
       "<style scoped>\n",
       "    .dataframe tbody tr th:only-of-type {\n",
       "        vertical-align: middle;\n",
       "    }\n",
       "\n",
       "    .dataframe tbody tr th {\n",
       "        vertical-align: top;\n",
       "    }\n",
       "\n",
       "    .dataframe thead th {\n",
       "        text-align: right;\n",
       "    }\n",
       "</style>\n",
       "<table border=\"1\" class=\"dataframe\">\n",
       "  <thead>\n",
       "    <tr style=\"text-align: right;\">\n",
       "      <th></th>\n",
       "      <th>venue</th>\n",
       "      <th>bat_team</th>\n",
       "      <th>bowl_team</th>\n",
       "      <th>batsman</th>\n",
       "      <th>bowler</th>\n",
       "      <th>runs</th>\n",
       "      <th>wickets</th>\n",
       "      <th>overs</th>\n",
       "      <th>runs_last_5</th>\n",
       "      <th>wickets_last_5</th>\n",
       "      <th>striker</th>\n",
       "      <th>non-striker</th>\n",
       "      <th>total</th>\n",
       "    </tr>\n",
       "  </thead>\n",
       "  <tbody>\n",
       "    <tr>\n",
       "      <th>count</th>\n",
       "      <td>76014.000000</td>\n",
       "      <td>76014.000000</td>\n",
       "      <td>76014.000000</td>\n",
       "      <td>76014.000000</td>\n",
       "      <td>76014.000000</td>\n",
       "      <td>76014.000000</td>\n",
       "      <td>76014.000000</td>\n",
       "      <td>76014.000000</td>\n",
       "      <td>76014.000000</td>\n",
       "      <td>76014.000000</td>\n",
       "      <td>76014.000000</td>\n",
       "      <td>76014.000000</td>\n",
       "      <td>76014.000000</td>\n",
       "    </tr>\n",
       "    <tr>\n",
       "      <th>mean</th>\n",
       "      <td>17.529324</td>\n",
       "      <td>5.932447</td>\n",
       "      <td>6.072224</td>\n",
       "      <td>210.425922</td>\n",
       "      <td>169.802615</td>\n",
       "      <td>74.889349</td>\n",
       "      <td>2.415844</td>\n",
       "      <td>9.783068</td>\n",
       "      <td>33.216434</td>\n",
       "      <td>1.120307</td>\n",
       "      <td>24.962283</td>\n",
       "      <td>8.869287</td>\n",
       "      <td>160.901452</td>\n",
       "    </tr>\n",
       "    <tr>\n",
       "      <th>std</th>\n",
       "      <td>9.590885</td>\n",
       "      <td>4.132640</td>\n",
       "      <td>3.965610</td>\n",
       "      <td>116.519428</td>\n",
       "      <td>92.909923</td>\n",
       "      <td>48.823327</td>\n",
       "      <td>2.015207</td>\n",
       "      <td>5.772587</td>\n",
       "      <td>14.914174</td>\n",
       "      <td>1.053343</td>\n",
       "      <td>20.079752</td>\n",
       "      <td>10.795742</td>\n",
       "      <td>29.246231</td>\n",
       "    </tr>\n",
       "    <tr>\n",
       "      <th>min</th>\n",
       "      <td>0.000000</td>\n",
       "      <td>0.000000</td>\n",
       "      <td>0.000000</td>\n",
       "      <td>0.000000</td>\n",
       "      <td>0.000000</td>\n",
       "      <td>0.000000</td>\n",
       "      <td>0.000000</td>\n",
       "      <td>0.000000</td>\n",
       "      <td>0.000000</td>\n",
       "      <td>0.000000</td>\n",
       "      <td>0.000000</td>\n",
       "      <td>0.000000</td>\n",
       "      <td>67.000000</td>\n",
       "    </tr>\n",
       "    <tr>\n",
       "      <th>25%</th>\n",
       "      <td>8.000000</td>\n",
       "      <td>2.000000</td>\n",
       "      <td>2.000000</td>\n",
       "      <td>110.000000</td>\n",
       "      <td>97.000000</td>\n",
       "      <td>34.000000</td>\n",
       "      <td>1.000000</td>\n",
       "      <td>4.600000</td>\n",
       "      <td>24.000000</td>\n",
       "      <td>0.000000</td>\n",
       "      <td>10.000000</td>\n",
       "      <td>1.000000</td>\n",
       "      <td>142.000000</td>\n",
       "    </tr>\n",
       "    <tr>\n",
       "      <th>50%</th>\n",
       "      <td>15.000000</td>\n",
       "      <td>6.000000</td>\n",
       "      <td>6.000000</td>\n",
       "      <td>209.000000</td>\n",
       "      <td>176.000000</td>\n",
       "      <td>70.000000</td>\n",
       "      <td>2.000000</td>\n",
       "      <td>9.600000</td>\n",
       "      <td>34.000000</td>\n",
       "      <td>1.000000</td>\n",
       "      <td>20.000000</td>\n",
       "      <td>5.000000</td>\n",
       "      <td>162.000000</td>\n",
       "    </tr>\n",
       "    <tr>\n",
       "      <th>75%</th>\n",
       "      <td>25.000000</td>\n",
       "      <td>9.000000</td>\n",
       "      <td>9.000000</td>\n",
       "      <td>312.000000</td>\n",
       "      <td>244.000000</td>\n",
       "      <td>111.000000</td>\n",
       "      <td>4.000000</td>\n",
       "      <td>14.600000</td>\n",
       "      <td>43.000000</td>\n",
       "      <td>2.000000</td>\n",
       "      <td>35.000000</td>\n",
       "      <td>13.000000</td>\n",
       "      <td>181.000000</td>\n",
       "    </tr>\n",
       "    <tr>\n",
       "      <th>max</th>\n",
       "      <td>34.000000</td>\n",
       "      <td>13.000000</td>\n",
       "      <td>13.000000</td>\n",
       "      <td>410.000000</td>\n",
       "      <td>328.000000</td>\n",
       "      <td>263.000000</td>\n",
       "      <td>10.000000</td>\n",
       "      <td>19.600000</td>\n",
       "      <td>113.000000</td>\n",
       "      <td>7.000000</td>\n",
       "      <td>175.000000</td>\n",
       "      <td>109.000000</td>\n",
       "      <td>263.000000</td>\n",
       "    </tr>\n",
       "  </tbody>\n",
       "</table>\n",
       "</div>"
      ],
      "text/plain": [
       "              venue      bat_team     bowl_team       batsman        bowler  \\\n",
       "count  76014.000000  76014.000000  76014.000000  76014.000000  76014.000000   \n",
       "mean      17.529324      5.932447      6.072224    210.425922    169.802615   \n",
       "std        9.590885      4.132640      3.965610    116.519428     92.909923   \n",
       "min        0.000000      0.000000      0.000000      0.000000      0.000000   \n",
       "25%        8.000000      2.000000      2.000000    110.000000     97.000000   \n",
       "50%       15.000000      6.000000      6.000000    209.000000    176.000000   \n",
       "75%       25.000000      9.000000      9.000000    312.000000    244.000000   \n",
       "max       34.000000     13.000000     13.000000    410.000000    328.000000   \n",
       "\n",
       "               runs       wickets         overs   runs_last_5  wickets_last_5  \\\n",
       "count  76014.000000  76014.000000  76014.000000  76014.000000    76014.000000   \n",
       "mean      74.889349      2.415844      9.783068     33.216434        1.120307   \n",
       "std       48.823327      2.015207      5.772587     14.914174        1.053343   \n",
       "min        0.000000      0.000000      0.000000      0.000000        0.000000   \n",
       "25%       34.000000      1.000000      4.600000     24.000000        0.000000   \n",
       "50%       70.000000      2.000000      9.600000     34.000000        1.000000   \n",
       "75%      111.000000      4.000000     14.600000     43.000000        2.000000   \n",
       "max      263.000000     10.000000     19.600000    113.000000        7.000000   \n",
       "\n",
       "            striker   non-striker         total  \n",
       "count  76014.000000  76014.000000  76014.000000  \n",
       "mean      24.962283      8.869287    160.901452  \n",
       "std       20.079752     10.795742     29.246231  \n",
       "min        0.000000      0.000000     67.000000  \n",
       "25%       10.000000      1.000000    142.000000  \n",
       "50%       20.000000      5.000000    162.000000  \n",
       "75%       35.000000     13.000000    181.000000  \n",
       "max      175.000000    109.000000    263.000000  "
      ]
     },
     "execution_count": 22,
     "metadata": {},
     "output_type": "execute_result"
    }
   ],
   "source": [
    "df.describe()"
   ]
  },
  {
   "cell_type": "code",
   "execution_count": 23,
   "id": "11ae98c0-b012-4362-8e37-b84977d05f10",
   "metadata": {},
   "outputs": [],
   "source": [
    "X = df.drop(\"total\", axis = 1)\n",
    "y = df[\"total\"]"
   ]
  },
  {
   "cell_type": "code",
   "execution_count": 24,
   "id": "907bd927-6b8d-420c-9501-e51087827df3",
   "metadata": {},
   "outputs": [],
   "source": [
    "from sklearn.model_selection import train_test_split\n",
    "from sklearn.preprocessing import MinMaxScaler\n",
    "from sklearn.metrics import r2_score, mean_squared_error"
   ]
  },
  {
   "cell_type": "code",
   "execution_count": 25,
   "id": "01e6da80-5132-45af-a097-69c6d88f09a1",
   "metadata": {},
   "outputs": [],
   "source": [
    "X_train, X_test, y_train, y_test = train_test_split(X, y, test_size=0.33, random_state=42)"
   ]
  },
  {
   "cell_type": "code",
   "execution_count": 26,
   "id": "d306c773-bfc5-409c-b21f-23eb0f8abe83",
   "metadata": {},
   "outputs": [],
   "source": [
    "scaler = MinMaxScaler()"
   ]
  },
  {
   "cell_type": "code",
   "execution_count": 27,
   "id": "96242153-04bf-4321-a59c-21cf5daa1f8b",
   "metadata": {},
   "outputs": [],
   "source": [
    "X_train = scaler.fit_transform(X_train)\n",
    "X_test = scaler.transform(X_test)"
   ]
  },
  {
   "cell_type": "code",
   "execution_count": 28,
   "id": "6b1e9674-5e49-42ef-b21e-890545d426dc",
   "metadata": {},
   "outputs": [
    {
     "data": {
      "text/plain": [
       "(50929, 12)"
      ]
     },
     "execution_count": 28,
     "metadata": {},
     "output_type": "execute_result"
    }
   ],
   "source": [
    "X_train.shape"
   ]
  },
  {
   "cell_type": "code",
   "execution_count": 29,
   "id": "f786f985-9031-47dc-9310-893001e1806d",
   "metadata": {},
   "outputs": [],
   "source": [
    "import tensorflow as tf\n",
    "from tensorflow.keras import Sequential\n",
    "from tensorflow.keras.layers import Dense, Dropout, InputLayer"
   ]
  },
  {
   "cell_type": "code",
   "execution_count": 30,
   "id": "48634bbb-5994-42c2-b9ae-8bfcedd95674",
   "metadata": {},
   "outputs": [
    {
     "name": "stderr",
     "output_type": "stream",
     "text": [
      "C:\\Users\\ritik\\AppData\\Roaming\\Python\\Python311\\site-packages\\keras\\src\\layers\\core\\input_layer.py:25: UserWarning: Argument `input_shape` is deprecated. Use `shape` instead.\n",
      "  warnings.warn(\n"
     ]
    }
   ],
   "source": [
    "model = Sequential()\n",
    "\n",
    "model.add(InputLayer(input_shape=(12,)))\n",
    "\n",
    "model.add(Dense(1024, activation='relu'))\n",
    "# model.add(Dropout(0.3))\n",
    "\n",
    "model.add(Dense(512, activation='relu'))\n",
    "# model.add(Dropout(0.2))\n",
    "\n",
    "model.add(Dense(256, activation='relu'))\n",
    "# model.add(Dropout(0.2))\n",
    "\n",
    "model.add(Dense(128, activation='relu'))\n",
    "# model.add(Dropout(0.2))\n",
    "\n",
    "model.add(Dense(64, activation='relu'))\n",
    "# model.add(Dropout(0.2))\n",
    "\n",
    "model.add(Dense(32, activation='relu'))\n",
    "# model.add(Dropout(0.3))\n",
    "\n",
    "\n",
    "model.add(Dense(1, activation=\"linear\"))\n",
    "\n",
    "model.compile(optimizer='adam', loss=\"mean_squared_error\")"
   ]
  },
  {
   "cell_type": "code",
   "execution_count": 31,
   "id": "f2923d28-fab9-4806-a201-873d574f3c58",
   "metadata": {
    "scrolled": true
   },
   "outputs": [
    {
     "name": "stdout",
     "output_type": "stream",
     "text": [
      "Epoch 1/100\n",
      "\u001b[1m1592/1592\u001b[0m \u001b[32m━━━━━━━━━━━━━━━━━━━━\u001b[0m\u001b[37m\u001b[0m \u001b[1m14s\u001b[0m 8ms/step - loss: 2145.4207 - val_loss: 448.6393\n",
      "Epoch 2/100\n",
      "\u001b[1m1592/1592\u001b[0m \u001b[32m━━━━━━━━━━━━━━━━━━━━\u001b[0m\u001b[37m\u001b[0m \u001b[1m12s\u001b[0m 8ms/step - loss: 443.0674 - val_loss: 393.9282\n",
      "Epoch 3/100\n",
      "\u001b[1m1592/1592\u001b[0m \u001b[32m━━━━━━━━━━━━━━━━━━━━\u001b[0m\u001b[37m\u001b[0m \u001b[1m12s\u001b[0m 7ms/step - loss: 433.2911 - val_loss: 398.6543\n",
      "Epoch 4/100\n",
      "\u001b[1m1592/1592\u001b[0m \u001b[32m━━━━━━━━━━━━━━━━━━━━\u001b[0m\u001b[37m\u001b[0m \u001b[1m12s\u001b[0m 7ms/step - loss: 427.5646 - val_loss: 378.3776\n",
      "Epoch 5/100\n",
      "\u001b[1m1592/1592\u001b[0m \u001b[32m━━━━━━━━━━━━━━━━━━━━\u001b[0m\u001b[37m\u001b[0m \u001b[1m13s\u001b[0m 8ms/step - loss: 402.1523 - val_loss: 364.2369\n",
      "Epoch 6/100\n",
      "\u001b[1m1592/1592\u001b[0m \u001b[32m━━━━━━━━━━━━━━━━━━━━\u001b[0m\u001b[37m\u001b[0m \u001b[1m12s\u001b[0m 8ms/step - loss: 400.2750 - val_loss: 362.2903\n",
      "Epoch 7/100\n",
      "\u001b[1m1592/1592\u001b[0m \u001b[32m━━━━━━━━━━━━━━━━━━━━\u001b[0m\u001b[37m\u001b[0m \u001b[1m12s\u001b[0m 7ms/step - loss: 377.2663 - val_loss: 356.4975\n",
      "Epoch 8/100\n",
      "\u001b[1m1592/1592\u001b[0m \u001b[32m━━━━━━━━━━━━━━━━━━━━\u001b[0m\u001b[37m\u001b[0m \u001b[1m12s\u001b[0m 8ms/step - loss: 371.9659 - val_loss: 381.2233\n",
      "Epoch 9/100\n",
      "\u001b[1m1592/1592\u001b[0m \u001b[32m━━━━━━━━━━━━━━━━━━━━\u001b[0m\u001b[37m\u001b[0m \u001b[1m12s\u001b[0m 7ms/step - loss: 367.1614 - val_loss: 367.9897\n",
      "Epoch 10/100\n",
      "\u001b[1m1592/1592\u001b[0m \u001b[32m━━━━━━━━━━━━━━━━━━━━\u001b[0m\u001b[37m\u001b[0m \u001b[1m12s\u001b[0m 7ms/step - loss: 360.9111 - val_loss: 333.8546\n",
      "Epoch 11/100\n",
      "\u001b[1m1592/1592\u001b[0m \u001b[32m━━━━━━━━━━━━━━━━━━━━\u001b[0m\u001b[37m\u001b[0m \u001b[1m14s\u001b[0m 9ms/step - loss: 356.1663 - val_loss: 378.7719\n",
      "Epoch 12/100\n",
      "\u001b[1m1592/1592\u001b[0m \u001b[32m━━━━━━━━━━━━━━━━━━━━\u001b[0m\u001b[37m\u001b[0m \u001b[1m13s\u001b[0m 8ms/step - loss: 353.0036 - val_loss: 360.3989\n",
      "Epoch 13/100\n",
      "\u001b[1m1592/1592\u001b[0m \u001b[32m━━━━━━━━━━━━━━━━━━━━\u001b[0m\u001b[37m\u001b[0m \u001b[1m12s\u001b[0m 8ms/step - loss: 347.8956 - val_loss: 325.4253\n",
      "Epoch 14/100\n",
      "\u001b[1m1592/1592\u001b[0m \u001b[32m━━━━━━━━━━━━━━━━━━━━\u001b[0m\u001b[37m\u001b[0m \u001b[1m13s\u001b[0m 8ms/step - loss: 333.7244 - val_loss: 323.4769\n",
      "Epoch 15/100\n",
      "\u001b[1m1592/1592\u001b[0m \u001b[32m━━━━━━━━━━━━━━━━━━━━\u001b[0m\u001b[37m\u001b[0m \u001b[1m13s\u001b[0m 8ms/step - loss: 336.0441 - val_loss: 317.1179\n",
      "Epoch 16/100\n",
      "\u001b[1m1592/1592\u001b[0m \u001b[32m━━━━━━━━━━━━━━━━━━━━\u001b[0m\u001b[37m\u001b[0m \u001b[1m13s\u001b[0m 8ms/step - loss: 323.8874 - val_loss: 317.3340\n",
      "Epoch 17/100\n",
      "\u001b[1m1592/1592\u001b[0m \u001b[32m━━━━━━━━━━━━━━━━━━━━\u001b[0m\u001b[37m\u001b[0m \u001b[1m14s\u001b[0m 9ms/step - loss: 324.9189 - val_loss: 337.0538\n",
      "Epoch 18/100\n",
      "\u001b[1m1592/1592\u001b[0m \u001b[32m━━━━━━━━━━━━━━━━━━━━\u001b[0m\u001b[37m\u001b[0m \u001b[1m13s\u001b[0m 8ms/step - loss: 319.1646 - val_loss: 327.7448\n",
      "Epoch 19/100\n",
      "\u001b[1m1592/1592\u001b[0m \u001b[32m━━━━━━━━━━━━━━━━━━━━\u001b[0m\u001b[37m\u001b[0m \u001b[1m12s\u001b[0m 8ms/step - loss: 300.6360 - val_loss: 296.7812\n",
      "Epoch 20/100\n",
      "\u001b[1m1592/1592\u001b[0m \u001b[32m━━━━━━━━━━━━━━━━━━━━\u001b[0m\u001b[37m\u001b[0m \u001b[1m13s\u001b[0m 8ms/step - loss: 296.9154 - val_loss: 300.2437\n",
      "Epoch 21/100\n",
      "\u001b[1m1592/1592\u001b[0m \u001b[32m━━━━━━━━━━━━━━━━━━━━\u001b[0m\u001b[37m\u001b[0m \u001b[1m12s\u001b[0m 8ms/step - loss: 295.1039 - val_loss: 295.7476\n",
      "Epoch 22/100\n",
      "\u001b[1m1592/1592\u001b[0m \u001b[32m━━━━━━━━━━━━━━━━━━━━\u001b[0m\u001b[37m\u001b[0m \u001b[1m12s\u001b[0m 8ms/step - loss: 289.7907 - val_loss: 299.7497\n",
      "Epoch 23/100\n",
      "\u001b[1m1592/1592\u001b[0m \u001b[32m━━━━━━━━━━━━━━━━━━━━\u001b[0m\u001b[37m\u001b[0m \u001b[1m13s\u001b[0m 8ms/step - loss: 280.9421 - val_loss: 281.9956\n",
      "Epoch 24/100\n",
      "\u001b[1m1592/1592\u001b[0m \u001b[32m━━━━━━━━━━━━━━━━━━━━\u001b[0m\u001b[37m\u001b[0m \u001b[1m14s\u001b[0m 9ms/step - loss: 271.4268 - val_loss: 268.3962\n",
      "Epoch 25/100\n",
      "\u001b[1m1592/1592\u001b[0m \u001b[32m━━━━━━━━━━━━━━━━━━━━\u001b[0m\u001b[37m\u001b[0m \u001b[1m14s\u001b[0m 9ms/step - loss: 268.2091 - val_loss: 256.8707\n",
      "Epoch 26/100\n",
      "\u001b[1m1592/1592\u001b[0m \u001b[32m━━━━━━━━━━━━━━━━━━━━\u001b[0m\u001b[37m\u001b[0m \u001b[1m12s\u001b[0m 8ms/step - loss: 259.3974 - val_loss: 280.3867\n",
      "Epoch 27/100\n",
      "\u001b[1m1592/1592\u001b[0m \u001b[32m━━━━━━━━━━━━━━━━━━━━\u001b[0m\u001b[37m\u001b[0m \u001b[1m12s\u001b[0m 8ms/step - loss: 257.6146 - val_loss: 262.8706\n",
      "Epoch 28/100\n",
      "\u001b[1m1592/1592\u001b[0m \u001b[32m━━━━━━━━━━━━━━━━━━━━\u001b[0m\u001b[37m\u001b[0m \u001b[1m12s\u001b[0m 7ms/step - loss: 246.7314 - val_loss: 250.2397\n",
      "Epoch 29/100\n",
      "\u001b[1m1592/1592\u001b[0m \u001b[32m━━━━━━━━━━━━━━━━━━━━\u001b[0m\u001b[37m\u001b[0m \u001b[1m15s\u001b[0m 9ms/step - loss: 251.7304 - val_loss: 260.4220\n",
      "Epoch 30/100\n",
      "\u001b[1m1592/1592\u001b[0m \u001b[32m━━━━━━━━━━━━━━━━━━━━\u001b[0m\u001b[37m\u001b[0m \u001b[1m15s\u001b[0m 9ms/step - loss: 247.8347 - val_loss: 250.9418\n",
      "Epoch 31/100\n",
      "\u001b[1m1592/1592\u001b[0m \u001b[32m━━━━━━━━━━━━━━━━━━━━\u001b[0m\u001b[37m\u001b[0m \u001b[1m13s\u001b[0m 8ms/step - loss: 232.3407 - val_loss: 293.3345\n",
      "Epoch 32/100\n",
      "\u001b[1m1592/1592\u001b[0m \u001b[32m━━━━━━━━━━━━━━━━━━━━\u001b[0m\u001b[37m\u001b[0m \u001b[1m12s\u001b[0m 8ms/step - loss: 224.9538 - val_loss: 233.1263\n",
      "Epoch 33/100\n",
      "\u001b[1m1592/1592\u001b[0m \u001b[32m━━━━━━━━━━━━━━━━━━━━\u001b[0m\u001b[37m\u001b[0m \u001b[1m12s\u001b[0m 8ms/step - loss: 223.7278 - val_loss: 231.8590\n",
      "Epoch 34/100\n",
      "\u001b[1m1592/1592\u001b[0m \u001b[32m━━━━━━━━━━━━━━━━━━━━\u001b[0m\u001b[37m\u001b[0m \u001b[1m12s\u001b[0m 8ms/step - loss: 212.8600 - val_loss: 236.3132\n",
      "Epoch 35/100\n",
      "\u001b[1m1592/1592\u001b[0m \u001b[32m━━━━━━━━━━━━━━━━━━━━\u001b[0m\u001b[37m\u001b[0m \u001b[1m12s\u001b[0m 7ms/step - loss: 207.6068 - val_loss: 229.3074\n",
      "Epoch 36/100\n",
      "\u001b[1m1592/1592\u001b[0m \u001b[32m━━━━━━━━━━━━━━━━━━━━\u001b[0m\u001b[37m\u001b[0m \u001b[1m11s\u001b[0m 7ms/step - loss: 206.8235 - val_loss: 222.2680\n",
      "Epoch 37/100\n",
      "\u001b[1m1592/1592\u001b[0m \u001b[32m━━━━━━━━━━━━━━━━━━━━\u001b[0m\u001b[37m\u001b[0m \u001b[1m11s\u001b[0m 7ms/step - loss: 195.0768 - val_loss: 207.8862\n",
      "Epoch 38/100\n",
      "\u001b[1m1592/1592\u001b[0m \u001b[32m━━━━━━━━━━━━━━━━━━━━\u001b[0m\u001b[37m\u001b[0m \u001b[1m11s\u001b[0m 7ms/step - loss: 193.1938 - val_loss: 204.2110\n",
      "Epoch 39/100\n",
      "\u001b[1m1592/1592\u001b[0m \u001b[32m━━━━━━━━━━━━━━━━━━━━\u001b[0m\u001b[37m\u001b[0m \u001b[1m11s\u001b[0m 7ms/step - loss: 184.3171 - val_loss: 216.0971\n",
      "Epoch 40/100\n",
      "\u001b[1m1592/1592\u001b[0m \u001b[32m━━━━━━━━━━━━━━━━━━━━\u001b[0m\u001b[37m\u001b[0m \u001b[1m12s\u001b[0m 7ms/step - loss: 182.8651 - val_loss: 207.2158\n",
      "Epoch 41/100\n",
      "\u001b[1m1592/1592\u001b[0m \u001b[32m━━━━━━━━━━━━━━━━━━━━\u001b[0m\u001b[37m\u001b[0m \u001b[1m11s\u001b[0m 7ms/step - loss: 172.6396 - val_loss: 183.9336\n",
      "Epoch 42/100\n",
      "\u001b[1m1592/1592\u001b[0m \u001b[32m━━━━━━━━━━━━━━━━━━━━\u001b[0m\u001b[37m\u001b[0m \u001b[1m11s\u001b[0m 7ms/step - loss: 163.1491 - val_loss: 196.3169\n",
      "Epoch 43/100\n",
      "\u001b[1m1592/1592\u001b[0m \u001b[32m━━━━━━━━━━━━━━━━━━━━\u001b[0m\u001b[37m\u001b[0m \u001b[1m11s\u001b[0m 7ms/step - loss: 163.7568 - val_loss: 176.9902\n",
      "Epoch 44/100\n",
      "\u001b[1m1592/1592\u001b[0m \u001b[32m━━━━━━━━━━━━━━━━━━━━\u001b[0m\u001b[37m\u001b[0m \u001b[1m13s\u001b[0m 8ms/step - loss: 157.2496 - val_loss: 185.1111\n",
      "Epoch 45/100\n",
      "\u001b[1m1592/1592\u001b[0m \u001b[32m━━━━━━━━━━━━━━━━━━━━\u001b[0m\u001b[37m\u001b[0m \u001b[1m12s\u001b[0m 8ms/step - loss: 153.1928 - val_loss: 167.0883\n",
      "Epoch 46/100\n",
      "\u001b[1m1592/1592\u001b[0m \u001b[32m━━━━━━━━━━━━━━━━━━━━\u001b[0m\u001b[37m\u001b[0m \u001b[1m12s\u001b[0m 7ms/step - loss: 145.0133 - val_loss: 167.5485\n",
      "Epoch 47/100\n",
      "\u001b[1m1592/1592\u001b[0m \u001b[32m━━━━━━━━━━━━━━━━━━━━\u001b[0m\u001b[37m\u001b[0m \u001b[1m12s\u001b[0m 8ms/step - loss: 140.1744 - val_loss: 171.0271\n",
      "Epoch 48/100\n",
      "\u001b[1m1592/1592\u001b[0m \u001b[32m━━━━━━━━━━━━━━━━━━━━\u001b[0m\u001b[37m\u001b[0m \u001b[1m12s\u001b[0m 8ms/step - loss: 136.5543 - val_loss: 159.7641\n",
      "Epoch 49/100\n",
      "\u001b[1m1592/1592\u001b[0m \u001b[32m━━━━━━━━━━━━━━━━━━━━\u001b[0m\u001b[37m\u001b[0m \u001b[1m12s\u001b[0m 8ms/step - loss: 132.9456 - val_loss: 166.1530\n",
      "Epoch 50/100\n",
      "\u001b[1m1592/1592\u001b[0m \u001b[32m━━━━━━━━━━━━━━━━━━━━\u001b[0m\u001b[37m\u001b[0m \u001b[1m12s\u001b[0m 8ms/step - loss: 129.8525 - val_loss: 159.0174\n",
      "Epoch 51/100\n",
      "\u001b[1m1592/1592\u001b[0m \u001b[32m━━━━━━━━━━━━━━━━━━━━\u001b[0m\u001b[37m\u001b[0m \u001b[1m12s\u001b[0m 8ms/step - loss: 126.4226 - val_loss: 144.9902\n",
      "Epoch 52/100\n",
      "\u001b[1m1592/1592\u001b[0m \u001b[32m━━━━━━━━━━━━━━━━━━━━\u001b[0m\u001b[37m\u001b[0m \u001b[1m12s\u001b[0m 8ms/step - loss: 121.8011 - val_loss: 138.4011\n",
      "Epoch 53/100\n",
      "\u001b[1m1592/1592\u001b[0m \u001b[32m━━━━━━━━━━━━━━━━━━━━\u001b[0m\u001b[37m\u001b[0m \u001b[1m12s\u001b[0m 8ms/step - loss: 118.0271 - val_loss: 148.6581\n",
      "Epoch 54/100\n",
      "\u001b[1m1592/1592\u001b[0m \u001b[32m━━━━━━━━━━━━━━━━━━━━\u001b[0m\u001b[37m\u001b[0m \u001b[1m12s\u001b[0m 8ms/step - loss: 116.6746 - val_loss: 136.6124\n",
      "Epoch 55/100\n",
      "\u001b[1m1592/1592\u001b[0m \u001b[32m━━━━━━━━━━━━━━━━━━━━\u001b[0m\u001b[37m\u001b[0m \u001b[1m12s\u001b[0m 8ms/step - loss: 108.0614 - val_loss: 154.1636\n",
      "Epoch 56/100\n",
      "\u001b[1m1592/1592\u001b[0m \u001b[32m━━━━━━━━━━━━━━━━━━━━\u001b[0m\u001b[37m\u001b[0m \u001b[1m13s\u001b[0m 8ms/step - loss: 107.6543 - val_loss: 127.2188\n",
      "Epoch 57/100\n",
      "\u001b[1m1592/1592\u001b[0m \u001b[32m━━━━━━━━━━━━━━━━━━━━\u001b[0m\u001b[37m\u001b[0m \u001b[1m12s\u001b[0m 8ms/step - loss: 107.6196 - val_loss: 124.5998\n",
      "Epoch 58/100\n",
      "\u001b[1m1592/1592\u001b[0m \u001b[32m━━━━━━━━━━━━━━━━━━━━\u001b[0m\u001b[37m\u001b[0m \u001b[1m13s\u001b[0m 8ms/step - loss: 104.2336 - val_loss: 126.3165\n",
      "Epoch 59/100\n",
      "\u001b[1m1592/1592\u001b[0m \u001b[32m━━━━━━━━━━━━━━━━━━━━\u001b[0m\u001b[37m\u001b[0m \u001b[1m13s\u001b[0m 8ms/step - loss: 98.4916 - val_loss: 140.3782\n",
      "Epoch 60/100\n",
      "\u001b[1m1592/1592\u001b[0m \u001b[32m━━━━━━━━━━━━━━━━━━━━\u001b[0m\u001b[37m\u001b[0m \u001b[1m12s\u001b[0m 8ms/step - loss: 97.0330 - val_loss: 130.8181\n",
      "Epoch 61/100\n",
      "\u001b[1m1592/1592\u001b[0m \u001b[32m━━━━━━━━━━━━━━━━━━━━\u001b[0m\u001b[37m\u001b[0m \u001b[1m12s\u001b[0m 8ms/step - loss: 96.3137 - val_loss: 118.7589\n",
      "Epoch 62/100\n",
      "\u001b[1m1592/1592\u001b[0m \u001b[32m━━━━━━━━━━━━━━━━━━━━\u001b[0m\u001b[37m\u001b[0m \u001b[1m13s\u001b[0m 8ms/step - loss: 91.6101 - val_loss: 108.2789\n",
      "Epoch 63/100\n",
      "\u001b[1m1592/1592\u001b[0m \u001b[32m━━━━━━━━━━━━━━━━━━━━\u001b[0m\u001b[37m\u001b[0m \u001b[1m13s\u001b[0m 8ms/step - loss: 84.8809 - val_loss: 116.7621\n",
      "Epoch 64/100\n",
      "\u001b[1m1592/1592\u001b[0m \u001b[32m━━━━━━━━━━━━━━━━━━━━\u001b[0m\u001b[37m\u001b[0m \u001b[1m13s\u001b[0m 8ms/step - loss: 88.9547 - val_loss: 166.7020\n",
      "Epoch 65/100\n",
      "\u001b[1m1592/1592\u001b[0m \u001b[32m━━━━━━━━━━━━━━━━━━━━\u001b[0m\u001b[37m\u001b[0m \u001b[1m13s\u001b[0m 8ms/step - loss: 84.9571 - val_loss: 109.9909\n",
      "Epoch 66/100\n",
      "\u001b[1m1592/1592\u001b[0m \u001b[32m━━━━━━━━━━━━━━━━━━━━\u001b[0m\u001b[37m\u001b[0m \u001b[1m13s\u001b[0m 8ms/step - loss: 82.6427 - val_loss: 118.3433\n",
      "Epoch 67/100\n",
      "\u001b[1m1592/1592\u001b[0m \u001b[32m━━━━━━━━━━━━━━━━━━━━\u001b[0m\u001b[37m\u001b[0m \u001b[1m13s\u001b[0m 8ms/step - loss: 79.0680 - val_loss: 115.7142\n",
      "Epoch 68/100\n",
      "\u001b[1m1592/1592\u001b[0m \u001b[32m━━━━━━━━━━━━━━━━━━━━\u001b[0m\u001b[37m\u001b[0m \u001b[1m13s\u001b[0m 8ms/step - loss: 78.7531 - val_loss: 101.7575\n",
      "Epoch 69/100\n",
      "\u001b[1m1592/1592\u001b[0m \u001b[32m━━━━━━━━━━━━━━━━━━━━\u001b[0m\u001b[37m\u001b[0m \u001b[1m13s\u001b[0m 8ms/step - loss: 77.6620 - val_loss: 115.2304\n",
      "Epoch 70/100\n",
      "\u001b[1m1592/1592\u001b[0m \u001b[32m━━━━━━━━━━━━━━━━━━━━\u001b[0m\u001b[37m\u001b[0m \u001b[1m13s\u001b[0m 8ms/step - loss: 75.3714 - val_loss: 95.1838\n",
      "Epoch 71/100\n",
      "\u001b[1m1592/1592\u001b[0m \u001b[32m━━━━━━━━━━━━━━━━━━━━\u001b[0m\u001b[37m\u001b[0m \u001b[1m13s\u001b[0m 8ms/step - loss: 71.1709 - val_loss: 101.8377\n",
      "Epoch 72/100\n",
      "\u001b[1m1592/1592\u001b[0m \u001b[32m━━━━━━━━━━━━━━━━━━━━\u001b[0m\u001b[37m\u001b[0m \u001b[1m13s\u001b[0m 8ms/step - loss: 70.7414 - val_loss: 112.1891\n",
      "Epoch 73/100\n",
      "\u001b[1m1592/1592\u001b[0m \u001b[32m━━━━━━━━━━━━━━━━━━━━\u001b[0m\u001b[37m\u001b[0m \u001b[1m20s\u001b[0m 8ms/step - loss: 69.5674 - val_loss: 115.7802\n",
      "Epoch 74/100\n",
      "\u001b[1m1592/1592\u001b[0m \u001b[32m━━━━━━━━━━━━━━━━━━━━\u001b[0m\u001b[37m\u001b[0m \u001b[1m12s\u001b[0m 8ms/step - loss: 68.4144 - val_loss: 103.8278\n",
      "Epoch 75/100\n",
      "\u001b[1m1592/1592\u001b[0m \u001b[32m━━━━━━━━━━━━━━━━━━━━\u001b[0m\u001b[37m\u001b[0m \u001b[1m13s\u001b[0m 8ms/step - loss: 68.6672 - val_loss: 92.0276\n",
      "Epoch 76/100\n",
      "\u001b[1m1592/1592\u001b[0m \u001b[32m━━━━━━━━━━━━━━━━━━━━\u001b[0m\u001b[37m\u001b[0m \u001b[1m13s\u001b[0m 8ms/step - loss: 66.1490 - val_loss: 89.6721\n",
      "Epoch 77/100\n",
      "\u001b[1m1592/1592\u001b[0m \u001b[32m━━━━━━━━━━━━━━━━━━━━\u001b[0m\u001b[37m\u001b[0m \u001b[1m13s\u001b[0m 8ms/step - loss: 65.5064 - val_loss: 89.8876\n",
      "Epoch 78/100\n",
      "\u001b[1m1592/1592\u001b[0m \u001b[32m━━━━━━━━━━━━━━━━━━━━\u001b[0m\u001b[37m\u001b[0m \u001b[1m13s\u001b[0m 8ms/step - loss: 63.3289 - val_loss: 115.7901\n",
      "Epoch 79/100\n",
      "\u001b[1m1592/1592\u001b[0m \u001b[32m━━━━━━━━━━━━━━━━━━━━\u001b[0m\u001b[37m\u001b[0m \u001b[1m13s\u001b[0m 8ms/step - loss: 63.2780 - val_loss: 96.9625\n",
      "Epoch 80/100\n",
      "\u001b[1m1592/1592\u001b[0m \u001b[32m━━━━━━━━━━━━━━━━━━━━\u001b[0m\u001b[37m\u001b[0m \u001b[1m13s\u001b[0m 8ms/step - loss: 62.5461 - val_loss: 80.4938\n",
      "Epoch 81/100\n",
      "\u001b[1m1592/1592\u001b[0m \u001b[32m━━━━━━━━━━━━━━━━━━━━\u001b[0m\u001b[37m\u001b[0m \u001b[1m13s\u001b[0m 8ms/step - loss: 59.4023 - val_loss: 82.2548\n",
      "Epoch 82/100\n",
      "\u001b[1m1592/1592\u001b[0m \u001b[32m━━━━━━━━━━━━━━━━━━━━\u001b[0m\u001b[37m\u001b[0m \u001b[1m13s\u001b[0m 8ms/step - loss: 57.6528 - val_loss: 86.1887\n",
      "Epoch 83/100\n",
      "\u001b[1m1592/1592\u001b[0m \u001b[32m━━━━━━━━━━━━━━━━━━━━\u001b[0m\u001b[37m\u001b[0m \u001b[1m13s\u001b[0m 8ms/step - loss: 57.1497 - val_loss: 85.8237\n",
      "Epoch 84/100\n",
      "\u001b[1m1592/1592\u001b[0m \u001b[32m━━━━━━━━━━━━━━━━━━━━\u001b[0m\u001b[37m\u001b[0m \u001b[1m12s\u001b[0m 8ms/step - loss: 59.2218 - val_loss: 84.9937\n",
      "Epoch 85/100\n",
      "\u001b[1m1592/1592\u001b[0m \u001b[32m━━━━━━━━━━━━━━━━━━━━\u001b[0m\u001b[37m\u001b[0m \u001b[1m13s\u001b[0m 8ms/step - loss: 55.1372 - val_loss: 81.9731\n",
      "Epoch 86/100\n",
      "\u001b[1m1592/1592\u001b[0m \u001b[32m━━━━━━━━━━━━━━━━━━━━\u001b[0m\u001b[37m\u001b[0m \u001b[1m13s\u001b[0m 8ms/step - loss: 53.2363 - val_loss: 83.8833\n",
      "Epoch 87/100\n",
      "\u001b[1m1592/1592\u001b[0m \u001b[32m━━━━━━━━━━━━━━━━━━━━\u001b[0m\u001b[37m\u001b[0m \u001b[1m13s\u001b[0m 8ms/step - loss: 54.8373 - val_loss: 82.0328\n",
      "Epoch 88/100\n",
      "\u001b[1m1592/1592\u001b[0m \u001b[32m━━━━━━━━━━━━━━━━━━━━\u001b[0m\u001b[37m\u001b[0m \u001b[1m14s\u001b[0m 9ms/step - loss: 53.7913 - val_loss: 78.6068\n",
      "Epoch 89/100\n",
      "\u001b[1m1592/1592\u001b[0m \u001b[32m━━━━━━━━━━━━━━━━━━━━\u001b[0m\u001b[37m\u001b[0m \u001b[1m14s\u001b[0m 9ms/step - loss: 52.7527 - val_loss: 80.4554\n",
      "Epoch 90/100\n",
      "\u001b[1m1592/1592\u001b[0m \u001b[32m━━━━━━━━━━━━━━━━━━━━\u001b[0m\u001b[37m\u001b[0m \u001b[1m14s\u001b[0m 9ms/step - loss: 50.6196 - val_loss: 81.8927\n",
      "Epoch 91/100\n",
      "\u001b[1m1592/1592\u001b[0m \u001b[32m━━━━━━━━━━━━━━━━━━━━\u001b[0m\u001b[37m\u001b[0m \u001b[1m13s\u001b[0m 8ms/step - loss: 50.1997 - val_loss: 77.1779\n",
      "Epoch 92/100\n",
      "\u001b[1m1592/1592\u001b[0m \u001b[32m━━━━━━━━━━━━━━━━━━━━\u001b[0m\u001b[37m\u001b[0m \u001b[1m14s\u001b[0m 9ms/step - loss: 51.0976 - val_loss: 83.6826\n",
      "Epoch 93/100\n",
      "\u001b[1m1592/1592\u001b[0m \u001b[32m━━━━━━━━━━━━━━━━━━━━\u001b[0m\u001b[37m\u001b[0m \u001b[1m13s\u001b[0m 8ms/step - loss: 47.2031 - val_loss: 68.9103\n",
      "Epoch 94/100\n",
      "\u001b[1m1592/1592\u001b[0m \u001b[32m━━━━━━━━━━━━━━━━━━━━\u001b[0m\u001b[37m\u001b[0m \u001b[1m13s\u001b[0m 8ms/step - loss: 49.2218 - val_loss: 71.1546\n",
      "Epoch 95/100\n",
      "\u001b[1m1592/1592\u001b[0m \u001b[32m━━━━━━━━━━━━━━━━━━━━\u001b[0m\u001b[37m\u001b[0m \u001b[1m14s\u001b[0m 9ms/step - loss: 47.0673 - val_loss: 88.2725\n",
      "Epoch 96/100\n",
      "\u001b[1m1592/1592\u001b[0m \u001b[32m━━━━━━━━━━━━━━━━━━━━\u001b[0m\u001b[37m\u001b[0m \u001b[1m13s\u001b[0m 8ms/step - loss: 48.1282 - val_loss: 67.4795\n",
      "Epoch 97/100\n",
      "\u001b[1m1592/1592\u001b[0m \u001b[32m━━━━━━━━━━━━━━━━━━━━\u001b[0m\u001b[37m\u001b[0m \u001b[1m13s\u001b[0m 8ms/step - loss: 42.4847 - val_loss: 74.7304\n",
      "Epoch 98/100\n",
      "\u001b[1m1592/1592\u001b[0m \u001b[32m━━━━━━━━━━━━━━━━━━━━\u001b[0m\u001b[37m\u001b[0m \u001b[1m13s\u001b[0m 8ms/step - loss: 46.4578 - val_loss: 78.6786\n",
      "Epoch 99/100\n",
      "\u001b[1m1592/1592\u001b[0m \u001b[32m━━━━━━━━━━━━━━━━━━━━\u001b[0m\u001b[37m\u001b[0m \u001b[1m13s\u001b[0m 8ms/step - loss: 44.1072 - val_loss: 79.9054\n",
      "Epoch 100/100\n",
      "\u001b[1m1592/1592\u001b[0m \u001b[32m━━━━━━━━━━━━━━━━━━━━\u001b[0m\u001b[37m\u001b[0m \u001b[1m13s\u001b[0m 8ms/step - loss: 44.1540 - val_loss: 78.5452\n"
     ]
    }
   ],
   "source": [
    "history = model.fit(x= X_train,\n",
    "         y = y_train,\n",
    "         epochs = 100,\n",
    "         validation_data=[X_test, y_test])"
   ]
  },
  {
   "cell_type": "code",
   "execution_count": 32,
   "id": "e7ddc019-a6dc-45be-a2f7-7de5039af3f2",
   "metadata": {},
   "outputs": [],
   "source": [
    "# Epoch 10/10\n",
    "# 1592/1592 [==============================] - 10s 6ms/step - loss: 1739.1013 - val_loss: 423.2445\n",
    "\n",
    "# Epoch 10/10\n",
    "# 1592/1592 [==============================] - 23s 14ms/step - loss: 1517.8502 - val_loss: 399.8053\n",
    "\n",
    "# Epoch 17/50\n",
    "# 1592/1592 ━━━━━━━━━━━━━━━━━━━━ 14s 9ms/step - loss: 331.8851 - val_loss: 319.5752\n",
    "\n",
    "# Epoch 50/50\n",
    "# 1592/1592 ━━━━━━━━━━━━━━━━━━━━ 9s 6ms/step - loss: 237.6629 - val_loss: 265.5277\n",
    "\n",
    "# Epoch 100/100\n",
    "# 1592/1592 ━━━━━━━━━━━━━━━━━━━━ 7s 4ms/step - loss: 73.8514 - val_loss: 108.3684\n"
   ]
  },
  {
   "cell_type": "code",
   "execution_count": null,
   "id": "ead57570-f2ab-4c43-b4cf-2cb5ae6751f8",
   "metadata": {},
   "outputs": [],
   "source": []
  },
  {
   "cell_type": "code",
   "execution_count": 33,
   "id": "844e4048-6826-442f-8038-6b222dcac3c6",
   "metadata": {},
   "outputs": [
    {
     "name": "stdout",
     "output_type": "stream",
     "text": [
      "\u001b[1m784/784\u001b[0m \u001b[32m━━━━━━━━━━━━━━━━━━━━\u001b[0m\u001b[37m\u001b[0m \u001b[1m1s\u001b[0m 1ms/step - loss: 78.4012\n"
     ]
    },
    {
     "data": {
      "text/plain": [
       "78.54524230957031"
      ]
     },
     "execution_count": 33,
     "metadata": {},
     "output_type": "execute_result"
    }
   ],
   "source": [
    "model.evaluate(X_test, y_test)"
   ]
  },
  {
   "cell_type": "code",
   "execution_count": 34,
   "id": "d860b1de-978e-4c92-a3c2-baba71a73bb8",
   "metadata": {},
   "outputs": [
    {
     "name": "stdout",
     "output_type": "stream",
     "text": [
      "\u001b[1m784/784\u001b[0m \u001b[32m━━━━━━━━━━━━━━━━━━━━\u001b[0m\u001b[37m\u001b[0m \u001b[1m1s\u001b[0m 2ms/step\n"
     ]
    }
   ],
   "source": [
    "predictions = model.predict(X_test)"
   ]
  },
  {
   "cell_type": "code",
   "execution_count": 38,
   "id": "a4c13bee-6444-47a0-99ac-099b3a9a88ae",
   "metadata": {},
   "outputs": [
    {
     "data": {
      "text/plain": [
       "array([[136.42407],\n",
       "       [190.64877],\n",
       "       [176.14677],\n",
       "       [177.33278],\n",
       "       [189.15776]], dtype=float32)"
      ]
     },
     "execution_count": 38,
     "metadata": {},
     "output_type": "execute_result"
    }
   ],
   "source": [
    "predictions[:5]"
   ]
  },
  {
   "cell_type": "code",
   "execution_count": 39,
   "id": "545a2446-f855-4c92-8f06-0dc141d77200",
   "metadata": {},
   "outputs": [
    {
     "data": {
      "text/plain": [
       "<matplotlib.legend.Legend at 0x181d9de1650>"
      ]
     },
     "execution_count": 39,
     "metadata": {},
     "output_type": "execute_result"
    },
    {
     "data": {
      "image/png": "[encoded data removed]",
      "text/plain": [
       "<Figure size 640x480 with 1 Axes>"
      ]
     },
     "metadata": {},
     "output_type": "display_data"
    }
   ],
   "source": [
    "plt.plot(history.history[\"loss\"], label='Training Loss', color='blue')\n",
    "plt.plot(history.history[\"val_loss\"], label='Validation Loss', color='red')\n",
    "plt.title(\"Loss & Validation Loss\")\n",
    "plt.xlabel(\"Epochs\")\n",
    "plt.ylabel(\"Loss\")\n",
    "plt.legend()"
   ]
  },
  {
   "cell_type": "code",
   "execution_count": 40,
   "id": "1fe5d419-d8ff-4892-a380-4f7bb304a363",
   "metadata": {},
   "outputs": [
    {
     "name": "stdout",
     "output_type": "stream",
     "text": [
      "78.54524751523134\n"
     ]
    }
   ],
   "source": [
    "print(mean_squared_error(y_test, predictions))"
   ]
  },
  {
   "cell_type": "code",
   "execution_count": 41,
   "id": "af1cb2c8-436a-4850-846a-27b270f88d53",
   "metadata": {},
   "outputs": [
    {
     "name": "stdout",
     "output_type": "stream",
     "text": [
      "8.862575670493953\n"
     ]
    }
   ],
   "source": [
    "print(np.sqrt(mean_squared_error(y_test, predictions)))"
   ]
  },
  {
   "cell_type": "code",
   "execution_count": 42,
   "id": "e0063012-5905-4e74-afb6-21ca6354ecf1",
   "metadata": {},
   "outputs": [
    {
     "name": "stdout",
     "output_type": "stream",
     "text": [
      "0.9065557657207253\n"
     ]
    }
   ],
   "source": [
    "print(r2_score(y_test, predictions))"
   ]
  },
  {
   "cell_type": "code",
   "execution_count": null,
   "id": "c3e73f05-bc4c-497a-9f8c-941d87572023",
   "metadata": {},
   "outputs": [],
   "source": []
  },
  {
   "cell_type": "code",
   "execution_count": null,
   "id": "dffcba88-b913-488f-9fe1-95a64ea2afe0",
   "metadata": {},
   "outputs": [],
   "source": []
  }
 ],
 "metadata": {
  "kernelspec": {
   "display_name": "Python 3 (ipykernel)",
   "language": "python",
   "name": "python3"
  },
  "language_info": {
   "codemirror_mode": {
    "name": "ipython",
    "version": 3
   },
   "file_extension": ".py",
   "mimetype": "text/x-python",
   "name": "python",
   "nbconvert_exporter": "python",
   "pygments_lexer": "ipython3",
   "version": "3.11.5"
  }
 },
 "nbformat": 4,
 "nbformat_minor": 5
}
